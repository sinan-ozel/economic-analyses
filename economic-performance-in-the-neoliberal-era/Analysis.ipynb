{
 "cells": [
  {
   "cell_type": "code",
   "execution_count": 94,
   "metadata": {},
   "outputs": [],
   "source": [
    "from typing import Dict, Callable\n",
    "import numpy as np\n",
    "import pandas as pd\n",
    "from matplotlib import pyplot as plt\n",
    "from matplotlib import ticker as mtick\n",
    "from matplotlib.patches import Patch\n",
    "import seaborn as sns"
   ]
  },
  {
   "cell_type": "code",
   "execution_count": 3,
   "metadata": {},
   "outputs": [],
   "source": [
    "world_bank_data = pd.read_excel('P_Data_Extract_From_World_Development_Indicators.xlsx')"
   ]
  },
  {
   "cell_type": "code",
   "execution_count": 49,
   "metadata": {},
   "outputs": [],
   "source": [
    "year_start = 1991\n",
    "year_end = 2019\n",
    "# gdp_measure = 'NY.GDP.PCAP.KD'\n",
    "# gdp_measure = 'NY.GDP.PCAP.CD'\n",
    "# gdp_measure = 'NY.GDP.PCAP.PP.KD'\n",
    "gdp_measure = 'NY.GDP.PCAP.PP.CD'\n",
    "pop_measure = 'SP.POP.TOTL'"
   ]
  },
  {
   "cell_type": "code",
   "execution_count": 57,
   "metadata": {},
   "outputs": [
    {
     "data": {
      "text/plain": [
       "'GDP per capita, PPP (current international $)'"
      ]
     },
     "execution_count": 57,
     "metadata": {},
     "output_type": "execute_result"
    }
   ],
   "source": [
    "gdp_label = \\\n",
    "    world_bank_data\\\n",
    "        .query(f'`Series Code` == \"{gdp_measure}\"')\\\n",
    "        ['Series Name']\\\n",
    "        .unique()\\\n",
    "        [0]\n",
    "gdp_label"
   ]
  },
  {
   "cell_type": "code",
   "execution_count": 51,
   "metadata": {},
   "outputs": [],
   "source": [
    "def year_column(year: int) -> str:\n",
    "    return f'{year} [YR{year}]'\n",
    "gdp = {}\n",
    "pop = {}\n",
    "gdp[str(year_start)] = \\\n",
    "    world_bank_data\\\n",
    "        .query(f'`Series Code` == \"{gdp_measure}\"')\\\n",
    "        [['Country Name', 'Country Code', year_column(year_start)]]\n",
    "gdp[str(year_end)] = \\\n",
    "    world_bank_data\\\n",
    "        .query(f'`Series Code` == \"{gdp_measure}\"')\\\n",
    "        [['Country Name', 'Country Code', year_column(year_end)]]\n",
    "pop[str(year_start)] = \\\n",
    "    world_bank_data\\\n",
    "        .query(f'`Series Code` == \"{pop_measure}\"')\\\n",
    "        [['Country Name', 'Country Code', year_column(year_start)]]\n",
    "pop[str(year_end)] = \\\n",
    "    world_bank_data\\\n",
    "        .query(f'`Series Code` == \"{pop_measure}\"')\\\n",
    "        [['Country Name', 'Country Code', year_column(year_end)]]\n"
   ]
  },
  {
   "cell_type": "markdown",
   "metadata": {},
   "source": [
    "## Replicate the Economist Analysis"
   ]
  },
  {
   "cell_type": "code",
   "execution_count": 52,
   "metadata": {},
   "outputs": [],
   "source": [
    "query_territories = '`Country Code`.isin([\"TEA\", \"TEC\", \"TLA\", \"TMN\", \"TSA\", \"TSS\"])'\n",
    "query_economist = '`Country Code`.isin([\"USA\", \"JPN\", \"CHN\", \"FRA\", \"DEU\", \"GBR\", \"AUT\", \"ESP\", \"LUX\", \"ITA\", \"IRL\"])'"
   ]
  },
  {
   "cell_type": "code",
   "execution_count": 133,
   "metadata": {},
   "outputs": [],
   "source": [
    "def group_economist(country_code: str) -> str:\n",
    "    if country_code in [\"FRA\", \"DEU\", \"GBR\", \"AUT\", \"ESP\", \"LUX\", \"ITA\", \"IRL\",]:\n",
    "        return \"Western Europe\"\n",
    "    else:\n",
    "        return country_code"
   ]
  },
  {
   "cell_type": "code",
   "execution_count": 134,
   "metadata": {},
   "outputs": [],
   "source": [
    "def get_chart_data(gdp: Dict[str, pd.DataFrame], \n",
    "                   pop: Dict[str, pd.DataFrame], \n",
    "                   year: int,\n",
    "                   query: str,\n",
    "                   grouping: Callable,\n",
    "                   sorting: dict):\n",
    "    chart_data = \\\n",
    "        gdp[str(year)]\\\n",
    "            .query(query)\\\n",
    "            .rename(columns={year_column(year): 'GDP per Capita'})\\\n",
    "            .merge(\n",
    "                pop[str(year)]\\\n",
    "                    .query(query)\\\n",
    "                    .rename(columns={year_column(year): 'Population'}),\n",
    "                how='inner',\n",
    "                on=['Country Code']\n",
    "            )\n",
    "    chart_data['Region'] = chart_data['Country Code'].apply(grouping)\n",
    "    chart_data = \\\n",
    "        chart_data\\\n",
    "            .groupby('Region')\\\n",
    "            .apply(\n",
    "                lambda x: pd.Series([\n",
    "                    np.sum(x['Population']),\n",
    "                    np.average(x['GDP per Capita'], weights=x['Population']),\n",
    "                ], index=['Population', 'GDP per Capita'])\n",
    "            )\\\n",
    "            .reset_index()\\\n",
    "            .sort_values(**sorting)\n",
    "    \n",
    "    return chart_data\n"
   ]
  },
  {
   "cell_type": "code",
   "execution_count": 135,
   "metadata": {},
   "outputs": [
    {
     "name": "stdout",
     "output_type": "stream",
     "text": [
      "[(0.12156862745098039, 0.4666666666666667, 0.7058823529411765), (1.0, 0.4980392156862745, 0.054901960784313725), (0.17254901960784313, 0.6274509803921569, 0.17254901960784313), (0.8392156862745098, 0.15294117647058825, 0.1568627450980392), (0.5803921568627451, 0.403921568627451, 0.7411764705882353), (0.5490196078431373, 0.33725490196078434, 0.29411764705882354), (0.8901960784313725, 0.4666666666666667, 0.7607843137254902), (0.4980392156862745, 0.4980392156862745, 0.4980392156862745), (0.7372549019607844, 0.7411764705882353, 0.13333333333333333), (0.09019607843137255, 0.7450980392156863, 0.8117647058823529)]\n"
     ]
    }
   ],
   "source": [
    "print(sns.color_palette())"
   ]
  },
  {
   "cell_type": "code",
   "execution_count": 136,
   "metadata": {},
   "outputs": [],
   "source": [
    "def draw_variable_width_barchart(chart_data: pd.DataFrame, \n",
    "                                 height: str, \n",
    "                                 width: str, \n",
    "                                 label: str,\n",
    "                                 ax,\n",
    "                                 palette: list = None,\n",
    "                                 x_axis_label: str = None,\n",
    "                                 y_axis_label: str = None):\n",
    "    data = chart_data[height].tolist()\n",
    "    widths = chart_data[width].tolist()\n",
    "    labels = chart_data[label].tolist()\n",
    "    left = [0] + list(np.cumsum(widths[:-1]))\n",
    "    ticks = pd.Series(left) + pd.Series(widths) / 2\n",
    "    if palette is None:\n",
    "        palette = sns.color_palette()\n",
    "    ax.bar(\n",
    "        left,\n",
    "        data,\n",
    "        width=widths,\n",
    "        align='edge',\n",
    "        color=palette,\n",
    "    )\n",
    "    ax.set_xticks(ticks)\n",
    "    ax.set_xticklabels(labels)\n",
    "    ax.yaxis.set_major_formatter(mtick.StrMethodFormatter(\"{x:,.0f}\"))\n",
    "    ax.grid(axis='y')\n",
    "    if x_axis_label is not None:\n",
    "        ax.set_xlabel(x_axis_label)\n",
    "    if y_axis_label is not None:\n",
    "        ax.set_ylabel(y_axis_label)\n",
    "    return ax\n"
   ]
  },
  {
   "cell_type": "code",
   "execution_count": null,
   "metadata": {},
   "outputs": [],
   "source": []
  },
  {
   "cell_type": "code",
   "execution_count": 137,
   "metadata": {},
   "outputs": [
    {
     "data": {
      "image/png": "[encoded data removed]",
      "text/plain": [
       "<Figure size 1440x576 with 2 Axes>"
      ]
     },
     "metadata": {},
     "output_type": "display_data"
    }
   ],
   "source": [
    "with sns.axes_style(\"dark\"):\n",
    "    fig, (ax_start, ax_end) = plt.subplots(1, 2, figsize=(20,8))\n",
    "    fig.suptitle('Economic Growth, Relative', fontsize=20)\n",
    "    colors = sns.color_palette()\n",
    "    chart_data_start = get_chart_data(gdp, pop, year_start, query_economist, group_economist, sorting={'by': 'GDP per Capita', 'ascending': False})\n",
    "    regions = chart_data_start['Region']\n",
    "    sorting_dict = dict(zip(chart_data_start['Region'], chart_data_start['GDP per Capita']))\n",
    "    chart_data_end = get_chart_data(gdp, pop, year_end, query_economist, group_economist, sorting={'by': 'Region', 'ascending': False, 'key': lambda x: x.map(sorting_dict)})\n",
    "    ax_start = draw_variable_width_barchart(chart_data_start, 'GDP per Capita', 'Population', 'Region', ax_start, colors, None, 'GDP per Capita')\n",
    "    ax_end = draw_variable_width_barchart(chart_data_end, 'GDP per Capita', 'Population', 'Region', ax_end, colors)\n",
    "    for ax in [ax_start, ax_end]:\n",
    "        ax.tick_params(axis='x', labelbottom=False)\n",
    "    patches = [Patch(color=v, label=k) for k, v in zip(regions, colors)]\n",
    "    fig.legend(title='Region', labels=regions.to_list(), handles=patches, loc='upper right', bbox_to_anchor=(.875, 0.85, 0., 0.))\n",
    "    "
   ]
  },
  {
   "cell_type": "code",
   "execution_count": 98,
   "metadata": {},
   "outputs": [
    {
     "data": {
      "text/plain": [
       "['__class__',\n",
       " '__delattr__',\n",
       " '__dict__',\n",
       " '__dir__',\n",
       " '__doc__',\n",
       " '__eq__',\n",
       " '__format__',\n",
       " '__ge__',\n",
       " '__getattribute__',\n",
       " '__getstate__',\n",
       " '__gt__',\n",
       " '__hash__',\n",
       " '__init__',\n",
       " '__init_subclass__',\n",
       " '__le__',\n",
       " '__lt__',\n",
       " '__module__',\n",
       " '__ne__',\n",
       " '__new__',\n",
       " '__reduce__',\n",
       " '__reduce_ex__',\n",
       " '__repr__',\n",
       " '__setattr__',\n",
       " '__setstate__',\n",
       " '__sizeof__',\n",
       " '__str__',\n",
       " '__subclasshook__',\n",
       " '__weakref__',\n",
       " '_add_axes_internal',\n",
       " '_agg_filter',\n",
       " '_align_xlabel_grp',\n",
       " '_align_ylabel_grp',\n",
       " '_alpha',\n",
       " '_animated',\n",
       " '_axobservers',\n",
       " '_axstack',\n",
       " '_cachedRenderer',\n",
       " '_clipon',\n",
       " '_clippath',\n",
       " '_constrained',\n",
       " '_constrained_layout_pads',\n",
       " '_contains',\n",
       " '_default_contains',\n",
       " '_dpi',\n",
       " '_gci',\n",
       " '_get_clipping_extent_bbox',\n",
       " '_get_dpi',\n",
       " '_gid',\n",
       " '_gridspecs',\n",
       " '_in_layout',\n",
       " '_label',\n",
       " '_layoutbox',\n",
       " '_make_key',\n",
       " '_mouseover',\n",
       " '_normalize_grid_string',\n",
       " '_oid',\n",
       " '_path_effects',\n",
       " '_picker',\n",
       " '_process_projection_requirements',\n",
       " '_propobservers',\n",
       " '_rasterized',\n",
       " '_remove_method',\n",
       " '_repr_html_',\n",
       " '_set_artist_props',\n",
       " '_set_dpi',\n",
       " '_set_gc_clip',\n",
       " '_sketch',\n",
       " '_snap',\n",
       " '_stale',\n",
       " '_sticky_edges',\n",
       " '_suptitle',\n",
       " '_tight',\n",
       " '_tight_parameters',\n",
       " '_transform',\n",
       " '_transformSet',\n",
       " '_url',\n",
       " '_visible',\n",
       " 'add_artist',\n",
       " 'add_axes',\n",
       " 'add_axobserver',\n",
       " 'add_callback',\n",
       " 'add_gridspec',\n",
       " 'add_subplot',\n",
       " 'align_labels',\n",
       " 'align_xlabels',\n",
       " 'align_ylabels',\n",
       " 'artists',\n",
       " 'autofmt_xdate',\n",
       " 'axes',\n",
       " 'bbox',\n",
       " 'bbox_inches',\n",
       " 'callbacks',\n",
       " 'canvas',\n",
       " 'clear',\n",
       " 'clf',\n",
       " 'clipbox',\n",
       " 'colorbar',\n",
       " 'contains',\n",
       " 'convert_xunits',\n",
       " 'convert_yunits',\n",
       " 'delaxes',\n",
       " 'dpi',\n",
       " 'dpi_scale_trans',\n",
       " 'draw',\n",
       " 'draw_artist',\n",
       " 'eventson',\n",
       " 'execute_constrained_layout',\n",
       " 'figimage',\n",
       " 'figure',\n",
       " 'findobj',\n",
       " 'format_cursor_data',\n",
       " 'frameon',\n",
       " 'gca',\n",
       " 'get_agg_filter',\n",
       " 'get_alpha',\n",
       " 'get_animated',\n",
       " 'get_axes',\n",
       " 'get_children',\n",
       " 'get_clip_box',\n",
       " 'get_clip_on',\n",
       " 'get_clip_path',\n",
       " 'get_constrained_layout',\n",
       " 'get_constrained_layout_pads',\n",
       " 'get_contains',\n",
       " 'get_cursor_data',\n",
       " 'get_default_bbox_extra_artists',\n",
       " 'get_dpi',\n",
       " 'get_edgecolor',\n",
       " 'get_facecolor',\n",
       " 'get_figheight',\n",
       " 'get_figure',\n",
       " 'get_figwidth',\n",
       " 'get_frameon',\n",
       " 'get_gid',\n",
       " 'get_in_layout',\n",
       " 'get_label',\n",
       " 'get_path_effects',\n",
       " 'get_picker',\n",
       " 'get_rasterized',\n",
       " 'get_size_inches',\n",
       " 'get_sketch_params',\n",
       " 'get_snap',\n",
       " 'get_tight_layout',\n",
       " 'get_tightbbox',\n",
       " 'get_transform',\n",
       " 'get_transformed_clip_path_and_affine',\n",
       " 'get_url',\n",
       " 'get_visible',\n",
       " 'get_window_extent',\n",
       " 'get_zorder',\n",
       " 'ginput',\n",
       " 'have_units',\n",
       " 'images',\n",
       " 'init_layoutbox',\n",
       " 'is_transform_set',\n",
       " 'legend',\n",
       " 'legends',\n",
       " 'lines',\n",
       " 'mouseover',\n",
       " 'number',\n",
       " 'patch',\n",
       " 'patches',\n",
       " 'pchanged',\n",
       " 'pick',\n",
       " 'pickable',\n",
       " 'properties',\n",
       " 'remove',\n",
       " 'remove_callback',\n",
       " 'savefig',\n",
       " 'sca',\n",
       " 'set',\n",
       " 'set_agg_filter',\n",
       " 'set_alpha',\n",
       " 'set_animated',\n",
       " 'set_canvas',\n",
       " 'set_clip_box',\n",
       " 'set_clip_on',\n",
       " 'set_clip_path',\n",
       " 'set_constrained_layout',\n",
       " 'set_constrained_layout_pads',\n",
       " 'set_contains',\n",
       " 'set_dpi',\n",
       " 'set_edgecolor',\n",
       " 'set_facecolor',\n",
       " 'set_figheight',\n",
       " 'set_figure',\n",
       " 'set_figwidth',\n",
       " 'set_frameon',\n",
       " 'set_gid',\n",
       " 'set_in_layout',\n",
       " 'set_label',\n",
       " 'set_path_effects',\n",
       " 'set_picker',\n",
       " 'set_rasterized',\n",
       " 'set_size_inches',\n",
       " 'set_sketch_params',\n",
       " 'set_snap',\n",
       " 'set_tight_layout',\n",
       " 'set_transform',\n",
       " 'set_url',\n",
       " 'set_visible',\n",
       " 'set_zorder',\n",
       " 'show',\n",
       " 'stale',\n",
       " 'stale_callback',\n",
       " 'sticky_edges',\n",
       " 'subplot_mosaic',\n",
       " 'subplotpars',\n",
       " 'subplots',\n",
       " 'subplots_adjust',\n",
       " 'suppressComposite',\n",
       " 'suptitle',\n",
       " 'text',\n",
       " 'texts',\n",
       " 'tight_layout',\n",
       " 'transFigure',\n",
       " 'update',\n",
       " 'update_from',\n",
       " 'waitforbuttonpress',\n",
       " 'zorder']"
      ]
     },
     "execution_count": 98,
     "metadata": {},
     "output_type": "execute_result"
    }
   ],
   "source": []
  },
  {
   "cell_type": "markdown",
   "metadata": {},
   "source": [
    "## Add More Countries"
   ]
  },
  {
   "cell_type": "code",
   "execution_count": 301,
   "metadata": {},
   "outputs": [],
   "source": [
    "query_economist_with_more = '`Country Code`.isin([\"USA\", \"JPN\", \"CHN\", \"FRA\", \"DEU\", \"GBR\", \"AUT\", \"ESP\", \"LUX\", \"ITA\", \"IRL\", \"SAS\", \"CAD\", \"AUS\", \"NZL\", \"DNK\", \"SWE\", \"NOR\", \"FIN\", \"RUS\"])'\n",
    "def group_economist_with_more(country_code: str) -> str:\n",
    "    if country_code in [\"FRA\", \"DEU\", \"GBR\", \"AUT\", \"ESP\", \"LUX\", \"ITA\", \"IRL\"]:\n",
    "        return \"WEU\"\n",
    "    elif country_code in [\"CAD\", \"AUS\", \"NZL\"]:\n",
    "        return \"CANZ\"\n",
    "    elif country_code in [\"TUR\", \"ISR\"]:\n",
    "        return \"NE\"\n",
    "    elif country_code in [\"DNK\", \"SWE\", \"NOR\", \"FIN\"]:\n",
    "        return \"BAL\"\n",
    "    else:\n",
    "        return country_code"
   ]
  },
  {
   "cell_type": "code",
   "execution_count": 302,
   "metadata": {},
   "outputs": [
    {
     "data": {
      "image/png": "[encoded data removed]",
      "text/plain": [
       "<Figure size 1440x576 with 2 Axes>"
      ]
     },
     "metadata": {},
     "output_type": "display_data"
    }
   ],
   "source": [
    "with sns.axes_style(\"dark\"):\n",
    "    fig, (ax_start, ax_end) = plt.subplots(1, 2, figsize=(20,8))\n",
    "    chart_data_start = get_chart_data(gdp, pop, year_start, query_economist_with_more, group_economist_with_more, sorting={'by': 'GDP per Capita', 'ascending': False})\n",
    "    sorting_dict = dict(zip(chart_data_start['Region'], chart_data_start['GDP per Capita']))\n",
    "    chart_data_end = get_chart_data(gdp, pop, year_end, query_economist_with_more, group_economist_with_more, sorting={'by': 'Region', 'ascending': False, 'key': lambda x: x.map(sorting_dict)})\n",
    "    draw_variable_width_barchart(chart_data_start, 'GDP per Capita', 'Population', 'Region', ax_start)\n",
    "    draw_variable_width_barchart(chart_data_end, 'GDP per Capita', 'Population', 'Region', ax_end)\n",
    "    "
   ]
  },
  {
   "cell_type": "code",
   "execution_count": null,
   "metadata": {},
   "outputs": [],
   "source": []
  },
  {
   "cell_type": "code",
   "execution_count": 331,
   "metadata": {},
   "outputs": [
    {
     "data": {
      "text/html": [
       "<div>\n",
       "<style scoped>\n",
       "    .dataframe tbody tr th:only-of-type {\n",
       "        vertical-align: middle;\n",
       "    }\n",
       "\n",
       "    .dataframe tbody tr th {\n",
       "        vertical-align: top;\n",
       "    }\n",
       "\n",
       "    .dataframe thead th {\n",
       "        text-align: right;\n",
       "    }\n",
       "</style>\n",
       "<table border=\"1\" class=\"dataframe\">\n",
       "  <thead>\n",
       "    <tr style=\"text-align: right;\">\n",
       "      <th></th>\n",
       "      <th>Country Name</th>\n",
       "      <th>Country Code</th>\n",
       "    </tr>\n",
       "  </thead>\n",
       "  <tbody>\n",
       "    <tr>\n",
       "      <th>230</th>\n",
       "      <td>European Union</td>\n",
       "      <td>EUU</td>\n",
       "    </tr>\n",
       "    <tr>\n",
       "      <th>743</th>\n",
       "      <td>Vietnam</td>\n",
       "      <td>VNM</td>\n",
       "    </tr>\n",
       "    <tr>\n",
       "      <th>109</th>\n",
       "      <td>Latvia</td>\n",
       "      <td>LVA</td>\n",
       "    </tr>\n",
       "    <tr>\n",
       "      <th>409</th>\n",
       "      <td>Niger</td>\n",
       "      <td>NER</td>\n",
       "    </tr>\n",
       "    <tr>\n",
       "      <th>702</th>\n",
       "      <td>Sierra Leone</td>\n",
       "      <td>SLE</td>\n",
       "    </tr>\n",
       "  </tbody>\n",
       "</table>\n",
       "</div>"
      ],
      "text/plain": [
       "       Country Name Country Code\n",
       "230  European Union          EUU\n",
       "743         Vietnam          VNM\n",
       "109          Latvia          LVA\n",
       "409           Niger          NER\n",
       "702    Sierra Leone          SLE"
      ]
     },
     "execution_count": 331,
     "metadata": {},
     "output_type": "execute_result"
    }
   ],
   "source": [
    "world_bank_data[['Country Name', 'Country Code']].sample(5)"
   ]
  },
  {
   "cell_type": "code",
   "execution_count": 233,
   "metadata": {},
   "outputs": [
    {
     "ename": "SyntaxError",
     "evalue": "invalid syntax (<ipython-input-233-f006c6566dbc>, line 3)",
     "output_type": "error",
     "traceback": [
      "\u001b[1;36m  File \u001b[1;32m\"<ipython-input-233-f006c6566dbc>\"\u001b[1;36m, line \u001b[1;32m3\u001b[0m\n\u001b[1;33m    Eastern Europe LVA\u001b[0m\n\u001b[1;37m            ^\u001b[0m\n\u001b[1;31mSyntaxError\u001b[0m\u001b[1;31m:\u001b[0m invalid syntax\n"
     ]
    }
   ],
   "source": [
    "Baltic: DNK SWE NOR FIN\n",
    "Balkan SVK SVN BGR SRB XKX\n",
    "Eastern Europe LVA EST MDA CZE HUN POL EST\n",
    "Central Asian TKM UZB MNG\n",
    "South Asian: BGD IND"
   ]
  },
  {
   "cell_type": "code",
   "execution_count": 332,
   "metadata": {},
   "outputs": [],
   "source": [
    "query_regions = '`Country Code`.isin([\"TSS\", \"SAS\", \"LCN\", \"EUU\"])'\n",
    "def group_default(country_code: str) -> str:\n",
    "    return country_code"
   ]
  },
  {
   "cell_type": "code",
   "execution_count": 333,
   "metadata": {},
   "outputs": [
    {
     "data": {
      "image/png": "[encoded data removed]",
      "text/plain": [
       "<Figure size 1440x576 with 2 Axes>"
      ]
     },
     "metadata": {},
     "output_type": "display_data"
    }
   ],
   "source": [
    "with sns.axes_style(\"dark\"):\n",
    "    fig, (ax_start, ax_end) = plt.subplots(1, 2, figsize=(20,8))\n",
    "    chart_data_start = get_chart_data(gdp, pop, year_start, query_regions, group_default, sorting={'by': 'GDP per Capita', 'ascending': False})\n",
    "    sorting_dict = dict(zip(chart_data_start['Region'], chart_data_start['GDP per Capita']))\n",
    "    chart_data_end = get_chart_data(gdp, pop, year_end, query_regions, group_default, sorting={'by': 'Region', 'ascending': False, 'key': lambda x: x.map(sorting_dict)})\n",
    "    draw_variable_width_barchart(chart_data_start, 'GDP per Capita', 'Population', 'Region', ax_start)\n",
    "    draw_variable_width_barchart(chart_data_end, 'GDP per Capita', 'Population', 'Region', ax_end)\n",
    "    "
   ]
  },
  {
   "cell_type": "code",
   "execution_count": null,
   "metadata": {},
   "outputs": [],
   "source": []
  }
 ],
 "metadata": {
  "kernelspec": {
   "display_name": "Python 3",
   "language": "python",
   "name": "python3"
  },
  "language_info": {
   "codemirror_mode": {
    "name": "ipython",
    "version": 3
   },
   "file_extension": ".py",
   "mimetype": "text/x-python",
   "name": "python",
   "nbconvert_exporter": "python",
   "pygments_lexer": "ipython3",
   "version": "3.8.5"
  }
 },
 "nbformat": 4,
 "nbformat_minor": 4
}
